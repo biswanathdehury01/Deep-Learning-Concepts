{
 "cells": [
  {
   "cell_type": "markdown",
   "metadata": {
    "colab_type": "text",
    "id": "cdHz1lgfTbl5"
   },
   "source": [
    "## **Installing TensorFlow 2.0**"
   ]
  },
  {
   "cell_type": "code",
   "execution_count": 0,
   "metadata": {
    "colab": {},
    "colab_type": "code",
    "id": "o9siUVJaTlHw"
   },
   "outputs": [],
   "source": [
    "#!pip install tensorflow==2.0.0-alpha0"
   ]
  },
  {
   "cell_type": "code",
   "execution_count": 1,
   "metadata": {
    "colab": {},
    "colab_type": "code",
    "id": "toweKWrxRv8u"
   },
   "outputs": [],
   "source": [
    "import tensorflow as tf\n",
    "import matplotlib.pyplot as plt\n",
    "import numpy as np\n",
    "%matplotlib inline"
   ]
  },
  {
   "cell_type": "code",
   "execution_count": 2,
   "metadata": {
    "colab": {},
    "colab_type": "code",
    "id": "BJpXxFqHSBlj"
   },
   "outputs": [
    {
     "data": {
      "text/plain": [
       "'2.3.0'"
      ]
     },
     "execution_count": 2,
     "metadata": {},
     "output_type": "execute_result"
    }
   ],
   "source": [
    "tf.__version__"
   ]
  },
  {
   "cell_type": "markdown",
   "metadata": {
    "colab_type": "text",
    "id": "1xpxKv2KT1LJ"
   },
   "source": [
    "## **Where did tf.Session() go?**"
   ]
  },
  {
   "cell_type": "code",
   "execution_count": 7,
   "metadata": {
    "colab": {},
    "colab_type": "code",
    "id": "xQnykpnBSDTz"
   },
   "outputs": [
    {
     "name": "stdout",
     "output_type": "stream",
     "text": [
      "Tensor:  tf.Tensor(b'Biswa here', shape=(), dtype=string)\n",
      "Value:  b'Biswa here'\n"
     ]
    }
   ],
   "source": [
    "name = tf.constant(\"Biswa here\")\n",
    "print(\"Tensor: \", name) # This is a tensor with no shape and type as string\n",
    "print(\"Value: \", name.numpy()) # Numpy function is used to fetch the value. "
   ]
  },
  {
   "cell_type": "markdown",
   "metadata": {
    "colab_type": "text",
    "id": "2xfyNSqoS3KR"
   },
   "source": [
    "## **Basic Operations example using TensorFlow library.**"
   ]
  },
  {
   "cell_type": "code",
   "execution_count": 5,
   "metadata": {
    "colab": {},
    "colab_type": "code",
    "id": "JmSk9HMZSPDi"
   },
   "outputs": [
    {
     "name": "stdout",
     "output_type": "stream",
     "text": [
      "tf.Tensor(\n",
      "[[1. 1.]\n",
      " [1. 1.]], shape=(2, 2), dtype=float32)\n"
     ]
    }
   ],
   "source": [
    "a = tf.ones([2,2])\n",
    "print(a)"
   ]
  },
  {
   "cell_type": "code",
   "execution_count": 8,
   "metadata": {
    "colab": {},
    "colab_type": "code",
    "id": "BF6wHDpoSg5V"
   },
   "outputs": [
    {
     "ename": "TypeError",
     "evalue": "'tensorflow.python.framework.ops.EagerTensor' object does not support item assignment",
     "output_type": "error",
     "traceback": [
      "\u001b[1;31m---------------------------------------------------------------------------\u001b[0m",
      "\u001b[1;31mTypeError\u001b[0m                                 Traceback (most recent call last)",
      "\u001b[1;32m<ipython-input-8-9ca6c1c37537>\u001b[0m in \u001b[0;36m<module>\u001b[1;34m\u001b[0m\n\u001b[0;32m      1\u001b[0m \u001b[1;31m# If we want to change first values of matrix, as belwo it will give error.\u001b[0m\u001b[1;33m\u001b[0m\u001b[1;33m\u001b[0m\u001b[1;33m\u001b[0m\u001b[0m\n\u001b[0;32m      2\u001b[0m \u001b[1;33m\u001b[0m\u001b[0m\n\u001b[1;32m----> 3\u001b[1;33m \u001b[0ma\u001b[0m\u001b[1;33m[\u001b[0m\u001b[1;36m0\u001b[0m\u001b[1;33m,\u001b[0m\u001b[1;36m0\u001b[0m\u001b[1;33m]\u001b[0m \u001b[1;33m=\u001b[0m \u001b[1;36m10\u001b[0m\u001b[1;33m\u001b[0m\u001b[1;33m\u001b[0m\u001b[0m\n\u001b[0m",
      "\u001b[1;31mTypeError\u001b[0m: 'tensorflow.python.framework.ops.EagerTensor' object does not support item assignment"
     ]
    }
   ],
   "source": [
    "# If we want to change first values of matrix, as belwo it will give error.\n",
    "\n",
    "a[0,0] = 10"
   ]
  },
  {
   "cell_type": "code",
   "execution_count": 9,
   "metadata": {
    "colab": {},
    "colab_type": "code",
    "id": "kyiIWwMHT-nN"
   },
   "outputs": [
    {
     "data": {
      "text/plain": [
       "<tf.Variable 'UnreadVariable' shape=(2, 2) dtype=float32, numpy=\n",
       "array([[10.,  1.],\n",
       "       [ 1.,  1.]], dtype=float32)>"
      ]
     },
     "execution_count": 9,
     "metadata": {},
     "output_type": "execute_result"
    }
   ],
   "source": [
    "# So first we have to save the tesor into a variable and then change the variabl to somethins else, by help of Assign Function\n",
    "a = tf.Variable(a)\n",
    "a[0,0].assign(10)\n",
    "# So this is how we deal with constant variables"
   ]
  },
  {
   "cell_type": "code",
   "execution_count": 10,
   "metadata": {
    "colab": {},
    "colab_type": "code",
    "id": "Ht2hbGNfVz41"
   },
   "outputs": [
    {
     "name": "stdout",
     "output_type": "stream",
     "text": [
      "SaveSliceInfo\n",
      "_OverloadAllOperators\n",
      "_OverloadOperator\n",
      "_TensorConversionFunction\n",
      "__abs__\n",
      "__add__\n",
      "__and__\n",
      "__array_priority__\n",
      "__bool__\n",
      "__class__\n",
      "__complex__\n",
      "__copy__\n",
      "__deepcopy__\n",
      "__delattr__\n",
      "__dict__\n",
      "__dir__\n",
      "__div__\n",
      "__doc__\n",
      "__eq__\n",
      "__float__\n",
      "__floordiv__\n",
      "__format__\n",
      "__ge__\n",
      "__getattribute__\n",
      "__getitem__\n",
      "__gt__\n",
      "__hash__\n",
      "__iadd__\n",
      "__idiv__\n",
      "__imul__\n",
      "__init__\n",
      "__init_subclass__\n",
      "__int__\n",
      "__invert__\n",
      "__ipow__\n",
      "__irealdiv__\n",
      "__isub__\n",
      "__iter__\n",
      "__itruediv__\n",
      "__le__\n",
      "__long__\n",
      "__lt__\n",
      "__matmul__\n",
      "__mod__\n",
      "__module__\n",
      "__mul__\n",
      "__ne__\n",
      "__neg__\n",
      "__new__\n",
      "__nonzero__\n",
      "__or__\n",
      "__pow__\n",
      "__radd__\n",
      "__rand__\n",
      "__rdiv__\n",
      "__reduce__\n",
      "__reduce_ex__\n",
      "__repr__\n",
      "__rfloordiv__\n",
      "__rmatmul__\n",
      "__rmod__\n",
      "__rmul__\n",
      "__ror__\n",
      "__rpow__\n",
      "__rsub__\n",
      "__rtruediv__\n",
      "__rxor__\n",
      "__setattr__\n",
      "__sizeof__\n",
      "__str__\n",
      "__sub__\n",
      "__subclasshook__\n",
      "__truediv__\n",
      "__weakref__\n",
      "__xor__\n",
      "_add_variable_with_custom_getter\n",
      "_aggregation\n",
      "_as_graph_element\n",
      "_assign_dependencies\n",
      "_cached_shape_as_list\n",
      "_cached_value\n",
      "_caching_device\n",
      "_checkpoint_dependencies\n",
      "_constraint\n",
      "_deferred_dependencies\n",
      "_dense_var_to_tensor\n",
      "_distribute_strategy\n",
      "_dtype\n",
      "_gather_saveables_for_checkpoint\n",
      "_get_save_slice_info\n",
      "_graph_element\n",
      "_graph_key\n",
      "_handle\n",
      "_handle_deferred_dependencies\n",
      "_handle_deleter\n",
      "_handle_name\n",
      "_in_graph_mode\n",
      "_init_from_args\n",
      "_init_from_proto\n",
      "_initial_value\n",
      "_initializer_op\n",
      "_is_initialized_op\n",
      "_lazy_read\n",
      "_list_extra_dependencies_for_serialization\n",
      "_list_functions_for_serialization\n",
      "_lookup_dependency\n",
      "_map_resources\n",
      "_maybe_initialize_trackable\n",
      "_name_based_attribute_restore\n",
      "_name_based_restores\n",
      "_no_dependency\n",
      "_object_identifier\n",
      "_preload_simple_restoration\n",
      "_read_variable_op\n",
      "_restore_from_checkpoint_position\n",
      "_save_slice_info\n",
      "_set_save_slice_info\n",
      "_setattr_tracking\n",
      "_shape\n",
      "_shape_as_list\n",
      "_shape_tuple\n",
      "_shared_name\n",
      "_single_restoration_from_checkpoint_position\n",
      "_strided_slice_assign\n",
      "_synchronization\n",
      "_tf_api_names\n",
      "_tf_api_names_v1\n",
      "_track_trackable\n",
      "_tracking_metadata\n",
      "_trainable\n",
      "_unconditional_checkpoint_dependencies\n",
      "_unconditional_dependency_names\n",
      "_unique_id\n",
      "_update_uid\n",
      "aggregation\n",
      "assign\n",
      "assign_add\n",
      "assign_sub\n",
      "batch_scatter_update\n",
      "constraint\n",
      "count_up_to\n",
      "create\n",
      "device\n",
      "dtype\n",
      "eval\n",
      "experimental_ref\n",
      "from_proto\n",
      "gather_nd\n",
      "get_shape\n",
      "graph\n",
      "handle\n",
      "initial_value\n",
      "initialized_value\n",
      "initializer\n",
      "is_initialized\n",
      "load\n",
      "name\n",
      "numpy\n",
      "op\n",
      "read_value\n",
      "ref\n",
      "scatter_add\n",
      "scatter_div\n",
      "scatter_max\n",
      "scatter_min\n",
      "scatter_mul\n",
      "scatter_nd_add\n",
      "scatter_nd_max\n",
      "scatter_nd_min\n",
      "scatter_nd_sub\n",
      "scatter_nd_update\n",
      "scatter_sub\n",
      "scatter_update\n",
      "set_shape\n",
      "shape\n",
      "sparse_read\n",
      "synchronization\n",
      "to_proto\n",
      "trainable\n",
      "value\n"
     ]
    }
   ],
   "source": [
    "# Now lets see some of inbuild functions available for variables transfromations \n",
    "\n",
    "for var_functions in dir(a):\n",
    "  print(var_functions)\n"
   ]
  },
  {
   "cell_type": "code",
   "execution_count": 11,
   "metadata": {
    "colab": {},
    "colab_type": "code",
    "id": "BIxjCt7aWKy1"
   },
   "outputs": [
    {
     "name": "stdout",
     "output_type": "stream",
     "text": [
      "tf.Tensor(\n",
      "[[10.  1.]\n",
      " [ 1.  1.]], shape=(2, 2), dtype=float32)\n"
     ]
    }
   ],
   "source": [
    "b = a.read_value()\n",
    "print(b)"
   ]
  },
  {
   "cell_type": "code",
   "execution_count": 12,
   "metadata": {
    "colab": {},
    "colab_type": "code",
    "id": "qITMH_b_UE2h"
   },
   "outputs": [],
   "source": [
    "a = tf.constant(4)\n",
    "b = tf.constant(8)"
   ]
  },
  {
   "cell_type": "code",
   "execution_count": 13,
   "metadata": {
    "colab": {},
    "colab_type": "code",
    "id": "5hMK7O-KUSbz"
   },
   "outputs": [
    {
     "name": "stdout",
     "output_type": "stream",
     "text": [
      "a + b : 12\n",
      "Addition with constants:  tf.Tensor(12, shape=(), dtype=int32)\n",
      "Addition with constants:  tf.Tensor(12, shape=(), dtype=int32)\n"
     ]
    }
   ],
   "source": [
    "print(\"a + b :\" , a.numpy() + b.numpy())\n",
    "print(\"Addition with constants: \", a+b)\n",
    "print(\"Addition with constants: \", tf.add(a, b))"
   ]
  },
  {
   "cell_type": "code",
   "execution_count": 14,
   "metadata": {
    "colab": {},
    "colab_type": "code",
    "id": "NBaeHVamUKxZ"
   },
   "outputs": [
    {
     "name": "stdout",
     "output_type": "stream",
     "text": [
      "a * b : 32\n",
      "Multiplication with constants:  tf.Tensor(32, shape=(), dtype=int32)\n",
      "Multiplication with constants:  tf.Tensor(32, shape=(), dtype=int32)\n"
     ]
    }
   ],
   "source": [
    "print(\"a * b :\" , a.numpy() * b.numpy())\n",
    "print(\"Multiplication with constants: \", a*b)\n",
    "print(\"Multiplication with constants: \", tf.multiply(a, b))"
   ]
  },
  {
   "cell_type": "code",
   "execution_count": 16,
   "metadata": {
    "colab": {},
    "colab_type": "code",
    "id": "41HSojabUVBo"
   },
   "outputs": [
    {
     "name": "stdout",
     "output_type": "stream",
     "text": [
      "tf.Tensor(2.0, shape=(), dtype=float32) tf.Tensor(2, shape=(), dtype=int32)\n"
     ]
    }
   ],
   "source": [
    "a = tf.convert_to_tensor(2.)\n",
    "b = tf.cast(a, tf.int32) # It will cast floating to new data type\n",
    "print(a, b)"
   ]
  },
  {
   "cell_type": "code",
   "execution_count": 17,
   "metadata": {
    "colab": {},
    "colab_type": "code",
    "id": "vE4zgExhUc-2"
   },
   "outputs": [
    {
     "name": "stdout",
     "output_type": "stream",
     "text": [
      "2 3\n",
      "tf.Tensor(2, shape=(), dtype=int32) tf.Tensor(3, shape=(), dtype=int32)\n"
     ]
    }
   ],
   "source": [
    "a = tf.ones([2,3]) # 2 rows and 3 columns\n",
    "print(a.shape[0], a.shape[1]) # 2, 3 # shape will return the no. of rows and columns\n",
    "shape = tf.shape(a)           # a tensor\n",
    "print(shape[0], shape[1])\n"
   ]
  },
  {
   "cell_type": "code",
   "execution_count": 18,
   "metadata": {
    "colab": {},
    "colab_type": "code",
    "id": "IZow6ef0VTGg"
   },
   "outputs": [
    {
     "name": "stdout",
     "output_type": "stream",
     "text": [
      "value: 3\n"
     ]
    }
   ],
   "source": [
    "variable = tf.Variable(2)\n",
    "variable.assign_add(1)\n",
    "print(\"value:\", variable.numpy())"
   ]
  },
  {
   "cell_type": "code",
   "execution_count": 19,
   "metadata": {
    "colab": {},
    "colab_type": "code",
    "id": "4fqpQeXMVXI-"
   },
   "outputs": [
    {
     "name": "stdout",
     "output_type": "stream",
     "text": [
      "value: 4\n"
     ]
    }
   ],
   "source": [
    "variable = variable + 1\n",
    "print(\"value:\", variable.numpy())"
   ]
  },
  {
   "cell_type": "code",
   "execution_count": 20,
   "metadata": {
    "colab": {},
    "colab_type": "code",
    "id": "OynUbEEfU2F1"
   },
   "outputs": [
    {
     "data": {
      "image/png": "[encoded data removed]",
      "text/plain": [
       "<Figure size 432x288 with 1 Axes>"
      ]
     },
     "metadata": {
      "needs_background": "light"
     },
     "output_type": "display_data"
    }
   ],
   "source": [
    "x = np.linspace(-5, 5, 100)\n",
    "y_sigmoid = tf.nn.sigmoid(x)\n",
    "plt.plot(x, y_sigmoid, c='blue', label='sigmoid')\n",
    "plt.ylim((-0.2, 1.2))\n",
    "plt.legend(loc='best')\n",
    "plt.show()"
   ]
  },
  {
   "cell_type": "markdown",
   "metadata": {},
   "source": [
    "NOTE : Tensorflow 2.0 we dont have sessions"
   ]
  },
  {
   "cell_type": "code",
   "execution_count": null,
   "metadata": {},
   "outputs": [],
   "source": []
  }
 ],
 "metadata": {
  "colab": {
   "collapsed_sections": [],
   "name": "tensorflow_2_0_introductory_tutorial.ipynb",
   "provenance": [],
   "version": "0.3.2"
  },
  "kernelspec": {
   "display_name": "Python 3",
   "language": "python",
   "name": "python3"
  },
  "language_info": {
   "codemirror_mode": {
    "name": "ipython",
    "version": 3
   },
   "file_extension": ".py",
   "mimetype": "text/x-python",
   "name": "python",
   "nbconvert_exporter": "python",
   "pygments_lexer": "ipython3",
   "version": "3.7.6"
  }
 },
 "nbformat": 4,
 "nbformat_minor": 1
}
