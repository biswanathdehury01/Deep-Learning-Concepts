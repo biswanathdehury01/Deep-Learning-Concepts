{
 "cells": [
  {
   "cell_type": "code",
   "execution_count": 1,
   "metadata": {
    "colab": {},
    "colab_type": "code",
    "executionInfo": {
     "elapsed": 1274,
     "status": "ok",
     "timestamp": 1595596355399,
     "user": {
      "displayName": "Bhavesh Bhatt",
      "photoUrl": "https://lh3.googleusercontent.com/a-/AOh14Ggn1iyaPhugkkpQYFRw42nt9ToNB-Rit7YeWtI4Zw=s64",
      "userId": "01561702845917398436"
     },
     "user_tz": -330
    },
    "id": "T0OnePFnwNsS"
   },
   "outputs": [],
   "source": [
    "import matplotlib.pyplot as plt\n",
    "import numpy as np\n",
    "import pandas as pd\n",
    "import tensorflow as tf\n",
    "import warnings\n",
    "from pylab import rcParams\n",
    "from tensorflow.keras.datasets import mnist\n",
    "from tensorflow.keras.layers import Activation\n",
    "from tensorflow.keras.layers import BatchNormalization\n",
    "from tensorflow.keras.layers import Conv2D\n",
    "from tensorflow.keras.layers import Dense\n",
    "from tensorflow.keras.layers import Flatten\n",
    "from tensorflow.keras.layers import MaxPooling2D\n",
    "from tensorflow.keras.models import Sequential\n",
    "from tensorflow.keras.utils import to_categorical"
   ]
  },
  {
   "cell_type": "code",
   "execution_count": 2,
   "metadata": {
    "colab": {},
    "colab_type": "code",
    "executionInfo": {
     "elapsed": 657,
     "status": "ok",
     "timestamp": 1595596355407,
     "user": {
      "displayName": "Bhavesh Bhatt",
      "photoUrl": "https://lh3.googleusercontent.com/a-/AOh14Ggn1iyaPhugkkpQYFRw42nt9ToNB-Rit7YeWtI4Zw=s64",
      "userId": "01561702845917398436"
     },
     "user_tz": -330
    },
    "id": "KTjpminY48kI"
   },
   "outputs": [],
   "source": [
    "rcParams['figure.figsize'] = 14, 7\n",
    "warnings.filterwarnings(\"ignore\")"
   ]
  },
  {
   "cell_type": "markdown",
   "metadata": {
    "colab_type": "text",
    "id": "3CZQIgIB6RXp"
   },
   "source": [
    "# Setup Data"
   ]
  },
  {
   "cell_type": "code",
   "execution_count": 4,
   "metadata": {
    "colab": {},
    "colab_type": "code",
    "executionInfo": {
     "elapsed": 962,
     "status": "ok",
     "timestamp": 1595596447705,
     "user": {
      "displayName": "Bhavesh Bhatt",
      "photoUrl": "https://lh3.googleusercontent.com/a-/AOh14Ggn1iyaPhugkkpQYFRw42nt9ToNB-Rit7YeWtI4Zw=s64",
      "userId": "01561702845917398436"
     },
     "user_tz": -330
    },
    "id": "1ewUYtEmwq-4"
   },
   "outputs": [
    {
     "name": "stdout",
     "output_type": "stream",
     "text": [
      "Downloading data from https://storage.googleapis.com/tensorflow/tf-keras-datasets/mnist.npz\n",
      "11493376/11490434 [==============================] - 14s 1us/step\n"
     ]
    }
   ],
   "source": [
    "(X_train, y_train), (X_test, y_test) = mnist.load_data()"
   ]
  },
  {
   "cell_type": "code",
   "execution_count": 5,
   "metadata": {
    "colab": {
     "base_uri": "https://localhost:8080/",
     "height": 34
    },
    "colab_type": "code",
    "executionInfo": {
     "elapsed": 1215,
     "status": "ok",
     "timestamp": 1595596456740,
     "user": {
      "displayName": "Bhavesh Bhatt",
      "photoUrl": "https://lh3.googleusercontent.com/a-/AOh14Ggn1iyaPhugkkpQYFRw42nt9ToNB-Rit7YeWtI4Zw=s64",
      "userId": "01561702845917398436"
     },
     "user_tz": -330
    },
    "id": "Cc7ckIv8w_7R",
    "outputId": "5c10b4ea-9202-4b13-ed80-7ff52abdbe0e"
   },
   "outputs": [
    {
     "data": {
      "text/plain": [
       "(60000, 28, 28)"
      ]
     },
     "execution_count": 5,
     "metadata": {},
     "output_type": "execute_result"
    }
   ],
   "source": [
    "X_train.shape\n",
    "\n",
    "# we have 60000 images with shape 23x23"
   ]
  },
  {
   "cell_type": "code",
   "execution_count": 6,
   "metadata": {
    "colab": {},
    "colab_type": "code",
    "executionInfo": {
     "elapsed": 966,
     "status": "ok",
     "timestamp": 1595596701273,
     "user": {
      "displayName": "Bhavesh Bhatt",
      "photoUrl": "https://lh3.googleusercontent.com/a-/AOh14Ggn1iyaPhugkkpQYFRw42nt9ToNB-Rit7YeWtI4Zw=s64",
      "userId": "01561702845917398436"
     },
     "user_tz": -330
    },
    "id": "z2ub_hyQxAQX"
   },
   "outputs": [],
   "source": [
    "X_train = X_train.reshape((X_train.shape[0], \n",
    "                           X_train.shape[1], \n",
    "                           X_train.shape[2], \n",
    "                           1))\n",
    "X_train = X_train/ 255.0"
   ]
  },
  {
   "cell_type": "code",
   "execution_count": 7,
   "metadata": {
    "colab": {},
    "colab_type": "code",
    "executionInfo": {
     "elapsed": 898,
     "status": "ok",
     "timestamp": 1595596719998,
     "user": {
      "displayName": "Bhavesh Bhatt",
      "photoUrl": "https://lh3.googleusercontent.com/a-/AOh14Ggn1iyaPhugkkpQYFRw42nt9ToNB-Rit7YeWtI4Zw=s64",
      "userId": "01561702845917398436"
     },
     "user_tz": -330
    },
    "id": "QiuYcnk_xATG"
   },
   "outputs": [],
   "source": [
    "X_test = X_test.reshape((X_test.shape[0], \n",
    "                         X_test.shape[1], \n",
    "                         X_test.shape[2], 1))\n",
    "X_test = X_test/ 255.0"
   ]
  },
  {
   "cell_type": "code",
   "execution_count": 8,
   "metadata": {
    "colab": {},
    "colab_type": "code",
    "executionInfo": {
     "elapsed": 2666,
     "status": "ok",
     "timestamp": 1595596786437,
     "user": {
      "displayName": "Bhavesh Bhatt",
      "photoUrl": "https://lh3.googleusercontent.com/a-/AOh14Ggn1iyaPhugkkpQYFRw42nt9ToNB-Rit7YeWtI4Zw=s64",
      "userId": "01561702845917398436"
     },
     "user_tz": -330
    },
    "id": "zuA4qZU7xp4R"
   },
   "outputs": [],
   "source": [
    "# to_categorical will convert to One Hot Encoding \n",
    "\n",
    "y_train = to_categorical(y_train)\n",
    "y_test = to_categorical(y_test)"
   ]
  },
  {
   "cell_type": "markdown",
   "metadata": {
    "colab_type": "text",
    "id": "ZbuUfYWE0A1l"
   },
   "source": [
    "# First Model"
   ]
  },
  {
   "cell_type": "code",
   "execution_count": 9,
   "metadata": {
    "colab": {},
    "colab_type": "code",
    "executionInfo": {
     "elapsed": 1080,
     "status": "ok",
     "timestamp": 1595596981856,
     "user": {
      "displayName": "Bhavesh Bhatt",
      "photoUrl": "https://lh3.googleusercontent.com/a-/AOh14Ggn1iyaPhugkkpQYFRw42nt9ToNB-Rit7YeWtI4Zw=s64",
      "userId": "01561702845917398436"
     },
     "user_tz": -330
    },
    "id": "4rxGjAfpyMa3"
   },
   "outputs": [],
   "source": [
    "# This model is without any batch normalization\n",
    "# Conv2D is a 2 dimentional convolution layer, which has 32 filters and each filter of sixe 3x3, with reul af.\n",
    "\n",
    "model_1 = Sequential()\n",
    "model_1.add(Conv2D(32, (3,3), activation=\"relu\"))\n",
    "model_1.add(MaxPooling2D((2, 2))) # Post CNN fearture map is brough down to half its size\n",
    "model_1.add(Conv2D(64, (3,3), activation=\"relu\"))\n",
    "model_1.add(MaxPooling2D((2, 2)))  \n",
    "model_1.add(Conv2D(64, (3,3), activation=\"relu\"))\n",
    "model_1.add(Flatten()) # Flatten layer to flattern the entier output\n",
    "model_1.add(Dense(64, activation=\"relu\"))\n",
    "model_1.add(Dense(10, activation=\"softmax\")) # Final layer for 10 output featuers\n",
    "model_1.compile(loss='categorical_crossentropy',\n",
    "              optimizer='adam',\n",
    "              metrics=['accuracy'])"
   ]
  },
  {
   "cell_type": "code",
   "execution_count": 10,
   "metadata": {
    "colab": {},
    "colab_type": "code",
    "executionInfo": {
     "elapsed": 907,
     "status": "ok",
     "timestamp": 1595596998567,
     "user": {
      "displayName": "Bhavesh Bhatt",
      "photoUrl": "https://lh3.googleusercontent.com/a-/AOh14Ggn1iyaPhugkkpQYFRw42nt9ToNB-Rit7YeWtI4Zw=s64",
      "userId": "01561702845917398436"
     },
     "user_tz": -330
    },
    "id": "4F-gGH_t1s8U"
   },
   "outputs": [],
   "source": [
    "batch_size = 128\n",
    "epochs = 5"
   ]
  },
  {
   "cell_type": "code",
   "execution_count": 11,
   "metadata": {
    "colab": {
     "base_uri": "https://localhost:8080/",
     "height": 210
    },
    "colab_type": "code",
    "executionInfo": {
     "elapsed": 11636,
     "status": "ok",
     "timestamp": 1595597033015,
     "user": {
      "displayName": "Bhavesh Bhatt",
      "photoUrl": "https://lh3.googleusercontent.com/a-/AOh14Ggn1iyaPhugkkpQYFRw42nt9ToNB-Rit7YeWtI4Zw=s64",
      "userId": "01561702845917398436"
     },
     "user_tz": -330
    },
    "id": "6QWTTO5T0CXa",
    "outputId": "9baa89d1-9eea-470a-e7f5-66a3917d3e24"
   },
   "outputs": [
    {
     "name": "stdout",
     "output_type": "stream",
     "text": [
      "Epoch 1/5\n",
      "469/469 [==============================] - 40s 86ms/step - loss: 0.2382 - accuracy: 0.9299 - val_loss: 0.0576 - val_accuracy: 0.9804\n",
      "Epoch 2/5\n",
      "469/469 [==============================] - 37s 78ms/step - loss: 0.0609 - accuracy: 0.9808 - val_loss: 0.0416 - val_accuracy: 0.9870\n",
      "Epoch 3/5\n",
      "469/469 [==============================] - 37s 79ms/step - loss: 0.0418 - accuracy: 0.9866 - val_loss: 0.0381 - val_accuracy: 0.9876\n",
      "Epoch 4/5\n",
      "469/469 [==============================] - 37s 79ms/step - loss: 0.0331 - accuracy: 0.9899 - val_loss: 0.0306 - val_accuracy: 0.9897\n",
      "Epoch 5/5\n",
      "469/469 [==============================] - 44s 93ms/step - loss: 0.0251 - accuracy: 0.9922 - val_loss: 0.0323 - val_accuracy: 0.9895\n"
     ]
    }
   ],
   "source": [
    "model_1_history = model_1.fit(X_train, y_train,\n",
    "                              batch_size=batch_size,\n",
    "                              epochs=epochs,\n",
    "                              verbose=1,\n",
    "                              validation_data=(X_test, y_test))"
   ]
  },
  {
   "cell_type": "markdown",
   "metadata": {
    "colab_type": "text",
    "id": "1Kz0A6Cj2W_Q"
   },
   "source": [
    "# Model with Batch Normalization"
   ]
  },
  {
   "cell_type": "code",
   "execution_count": 12,
   "metadata": {
    "colab": {},
    "colab_type": "code",
    "executionInfo": {
     "elapsed": 968,
     "status": "ok",
     "timestamp": 1595597122377,
     "user": {
      "displayName": "Bhavesh Bhatt",
      "photoUrl": "https://lh3.googleusercontent.com/a-/AOh14Ggn1iyaPhugkkpQYFRw42nt9ToNB-Rit7YeWtI4Zw=s64",
      "userId": "01561702845917398436"
     },
     "user_tz": -330
    },
    "id": "-dg733X_2ZER"
   },
   "outputs": [],
   "source": [
    "# the only difference here is 2 BatchNormalizaion Layers are included after the Dense layers\n",
    "# Batch Normalization is being used inorder to reach / converge to optimum values\n",
    "\n",
    "model_2 = Sequential()\n",
    "model_2.add(Conv2D(32, (3,3), activation=\"relu\"))\n",
    "model_2.add(MaxPooling2D((2, 2)))\n",
    "model_2.add(Conv2D(64, (3,3), activation=\"relu\"))\n",
    "model_2.add(MaxPooling2D((2, 2)))\n",
    "model_2.add(Conv2D(64, (3,3), activation=\"relu\"))\n",
    "model_2.add(Flatten())\n",
    "model_2.add(Dense(64))\n",
    "model_2.add(BatchNormalization())\n",
    "model_2.add(Activation(\"relu\"))\n",
    "model_2.add(Dense(10))\n",
    "model_2.add(BatchNormalization())\n",
    "model_2.add(Activation(\"softmax\"))\n",
    "\n",
    "model_2.compile(loss='categorical_crossentropy',\n",
    "              optimizer='adam',\n",
    "              metrics=['accuracy'])"
   ]
  },
  {
   "cell_type": "code",
   "execution_count": 13,
   "metadata": {
    "colab": {
     "base_uri": "https://localhost:8080/",
     "height": 210
    },
    "colab_type": "code",
    "executionInfo": {
     "elapsed": 13908,
     "status": "ok",
     "timestamp": 1595597150158,
     "user": {
      "displayName": "Bhavesh Bhatt",
      "photoUrl": "https://lh3.googleusercontent.com/a-/AOh14Ggn1iyaPhugkkpQYFRw42nt9ToNB-Rit7YeWtI4Zw=s64",
      "userId": "01561702845917398436"
     },
     "user_tz": -330
    },
    "id": "E2OMOEdE3T8g",
    "outputId": "fdf0e854-f180-43ec-f1c3-a21c96551b38"
   },
   "outputs": [
    {
     "name": "stdout",
     "output_type": "stream",
     "text": [
      "Epoch 1/5\n",
      "469/469 [==============================] - 39s 84ms/step - loss: 0.3552 - accuracy: 0.9648 - val_loss: 0.3139 - val_accuracy: 0.9866\n",
      "Epoch 2/5\n",
      "469/469 [==============================] - 43s 92ms/step - loss: 0.1423 - accuracy: 0.9890 - val_loss: 0.1012 - val_accuracy: 0.9897\n",
      "Epoch 3/5\n",
      "469/469 [==============================] - 42s 89ms/step - loss: 0.0858 - accuracy: 0.9922 - val_loss: 0.0658 - val_accuracy: 0.9919\n",
      "Epoch 4/5\n",
      "469/469 [==============================] - 40s 84ms/step - loss: 0.0572 - accuracy: 0.9941 - val_loss: 0.0571 - val_accuracy: 0.9922\n",
      "Epoch 5/5\n",
      "469/469 [==============================] - 44s 95ms/step - loss: 0.0422 - accuracy: 0.9956 - val_loss: 0.0376 - val_accuracy: 0.9922\n"
     ]
    }
   ],
   "source": [
    "model_2_history = model_2.fit(X_train, y_train,\n",
    "                              batch_size=batch_size,\n",
    "                              epochs=epochs,\n",
    "                              verbose=1,\n",
    "                              validation_data=(X_test, y_test))\n",
    "\n",
    "# here we can see the model reaches accuracy in 3rd eopch to 99%"
   ]
  },
  {
   "cell_type": "markdown",
   "metadata": {
    "colab_type": "text",
    "id": "M8iWUgHJ6Lic"
   },
   "source": [
    "# Visualize Performance"
   ]
  },
  {
   "cell_type": "code",
   "execution_count": 14,
   "metadata": {
    "colab": {
     "base_uri": "https://localhost:8080/",
     "height": 419
    },
    "colab_type": "code",
    "executionInfo": {
     "elapsed": 1406,
     "status": "ok",
     "timestamp": 1595597236573,
     "user": {
      "displayName": "Bhavesh Bhatt",
      "photoUrl": "https://lh3.googleusercontent.com/a-/AOh14Ggn1iyaPhugkkpQYFRw42nt9ToNB-Rit7YeWtI4Zw=s64",
      "userId": "01561702845917398436"
     },
     "user_tz": -330
    },
    "id": "Gin8Mt6R3dN0",
    "outputId": "bbc84b17-cfb6-4859-90fa-974064d2af62"
   },
   "outputs": [
    {
     "data": {
      "text/plain": [
       "<matplotlib.legend.Legend at 0x182fb34df08>"
      ]
     },
     "execution_count": 14,
     "metadata": {},
     "output_type": "execute_result"
    },
    {
     "data": {
      "image/png": "[encoded data removed]",
      "text/plain": [
       "<Figure size 1008x504 with 1 Axes>"
      ]
     },
     "metadata": {
      "needs_background": "light"
     },
     "output_type": "display_data"
    }
   ],
   "source": [
    "plt.plot(model_1_history.history['accuracy'])\n",
    "plt.plot(model_2_history.history['accuracy'])\n",
    "plt.plot(model_1_history.history['val_accuracy'])\n",
    "plt.plot(model_2_history.history['val_accuracy'])\n",
    "plt.title('Model Accuracy')\n",
    "plt.ylabel('Accuracy')\n",
    "plt.xlabel('Epoch')\n",
    "plt.legend(['Model 1 Training','Model with Batch Normalization Training', \n",
    "            'Model 1 Testing', 'Model with Batch Normalization Testing'],\n",
    "           loc='center right')\n",
    "\n",
    "# As we can see the orage line is giving a good and converging faster usting batch normalizaion"
   ]
  },
  {
   "cell_type": "code",
   "execution_count": null,
   "metadata": {
    "colab": {},
    "colab_type": "code",
    "id": "8i52UZDt4Npa"
   },
   "outputs": [],
   "source": []
  }
 ],
 "metadata": {
  "accelerator": "GPU",
  "colab": {
   "authorship_tag": "ABX9TyNFDlLCOF8V4PpecZBcuapn",
   "collapsed_sections": [
    "3CZQIgIB6RXp",
    "ZbuUfYWE0A1l",
    "1Kz0A6Cj2W_Q",
    "M8iWUgHJ6Lic"
   ],
   "name": "batch-normalization.ipynb",
   "provenance": []
  },
  "kernelspec": {
   "display_name": "Python 3",
   "language": "python",
   "name": "python3"
  },
  "language_info": {
   "codemirror_mode": {
    "name": "ipython",
    "version": 3
   },
   "file_extension": ".py",
   "mimetype": "text/x-python",
   "name": "python",
   "nbconvert_exporter": "python",
   "pygments_lexer": "ipython3",
   "version": "3.7.6"
  }
 },
 "nbformat": 4,
 "nbformat_minor": 1
}
