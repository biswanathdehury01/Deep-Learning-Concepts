{
 "cells": [
  {
   "cell_type": "code",
   "execution_count": 1,
   "metadata": {
    "colab": {},
    "colab_type": "code",
    "id": "Wjefm0wzWbAJ"
   },
   "outputs": [],
   "source": [
    "import numpy as np\n",
    "import pandas as pd\n",
    "import tensorflow as tf\n",
    "import warnings\n",
    "from sklearn.preprocessing import StandardScaler\n",
    "from sklearn.model_selection import train_test_split\n",
    "from tensorflow.keras import Sequential\n",
    "from tensorflow.keras.layers import Dense"
   ]
  },
  {
   "cell_type": "code",
   "execution_count": 2,
   "metadata": {
    "colab": {},
    "colab_type": "code",
    "id": "lHg5g2D0WsAs"
   },
   "outputs": [],
   "source": [
    "file_name = \"data.csv\""
   ]
  },
  {
   "cell_type": "code",
   "execution_count": 3,
   "metadata": {
    "colab": {},
    "colab_type": "code",
    "id": "bIMgoWYcWxC3"
   },
   "outputs": [],
   "source": [
    "df = pd.read_csv(file_name)"
   ]
  },
  {
   "cell_type": "code",
   "execution_count": 4,
   "metadata": {
    "colab": {
     "base_uri": "https://localhost:8080/",
     "height": 202
    },
    "colab_type": "code",
    "id": "2Mm7Vin_W-KT",
    "outputId": "8ca25a38-50e0-4be3-9aa9-e22ecb3beeff"
   },
   "outputs": [
    {
     "data": {
      "text/html": [
       "<div>\n",
       "<style scoped>\n",
       "    .dataframe tbody tr th:only-of-type {\n",
       "        vertical-align: middle;\n",
       "    }\n",
       "\n",
       "    .dataframe tbody tr th {\n",
       "        vertical-align: top;\n",
       "    }\n",
       "\n",
       "    .dataframe thead th {\n",
       "        text-align: right;\n",
       "    }\n",
       "</style>\n",
       "<table border=\"1\" class=\"dataframe\">\n",
       "  <thead>\n",
       "    <tr style=\"text-align: right;\">\n",
       "      <th></th>\n",
       "      <th>Gender</th>\n",
       "      <th>Age</th>\n",
       "      <th>Salary</th>\n",
       "      <th>Purchased</th>\n",
       "    </tr>\n",
       "  </thead>\n",
       "  <tbody>\n",
       "    <tr>\n",
       "      <th>0</th>\n",
       "      <td>Male</td>\n",
       "      <td>19</td>\n",
       "      <td>19000</td>\n",
       "      <td>0</td>\n",
       "    </tr>\n",
       "    <tr>\n",
       "      <th>1</th>\n",
       "      <td>Male</td>\n",
       "      <td>35</td>\n",
       "      <td>20000</td>\n",
       "      <td>0</td>\n",
       "    </tr>\n",
       "    <tr>\n",
       "      <th>2</th>\n",
       "      <td>Female</td>\n",
       "      <td>26</td>\n",
       "      <td>43000</td>\n",
       "      <td>0</td>\n",
       "    </tr>\n",
       "    <tr>\n",
       "      <th>3</th>\n",
       "      <td>Female</td>\n",
       "      <td>27</td>\n",
       "      <td>57000</td>\n",
       "      <td>0</td>\n",
       "    </tr>\n",
       "    <tr>\n",
       "      <th>4</th>\n",
       "      <td>Male</td>\n",
       "      <td>19</td>\n",
       "      <td>76000</td>\n",
       "      <td>0</td>\n",
       "    </tr>\n",
       "  </tbody>\n",
       "</table>\n",
       "</div>"
      ],
      "text/plain": [
       "   Gender  Age  Salary  Purchased\n",
       "0    Male   19   19000          0\n",
       "1    Male   35   20000          0\n",
       "2  Female   26   43000          0\n",
       "3  Female   27   57000          0\n",
       "4    Male   19   76000          0"
      ]
     },
     "execution_count": 4,
     "metadata": {},
     "output_type": "execute_result"
    }
   ],
   "source": [
    "df.head()"
   ]
  },
  {
   "cell_type": "code",
   "execution_count": 5,
   "metadata": {
    "colab": {
     "base_uri": "https://localhost:8080/",
     "height": 35
    },
    "colab_type": "code",
    "id": "apv__Y86ZF4H",
    "outputId": "bb3ce46e-3e73-48f3-b51c-135b7a6b531b"
   },
   "outputs": [
    {
     "data": {
      "text/plain": [
       "(400, 4)"
      ]
     },
     "execution_count": 5,
     "metadata": {},
     "output_type": "execute_result"
    }
   ],
   "source": [
    "df.shape"
   ]
  },
  {
   "cell_type": "code",
   "execution_count": 6,
   "metadata": {
    "colab": {},
    "colab_type": "code",
    "id": "2_EfXt8eXYru"
   },
   "outputs": [],
   "source": [
    "df['Gender'].replace(['Female','Male'],[0,1], inplace=True)"
   ]
  },
  {
   "cell_type": "code",
   "execution_count": 7,
   "metadata": {
    "colab": {},
    "colab_type": "code",
    "id": "tnM0DPgWXGrK"
   },
   "outputs": [],
   "source": [
    "target = \"Purchased\""
   ]
  },
  {
   "cell_type": "code",
   "execution_count": 8,
   "metadata": {
    "colab": {},
    "colab_type": "code",
    "id": "JmP-wmJ2XITO"
   },
   "outputs": [],
   "source": [
    "X = df.loc[:, df.columns != target]"
   ]
  },
  {
   "cell_type": "code",
   "execution_count": 9,
   "metadata": {
    "colab": {},
    "colab_type": "code",
    "id": "L-4LYHvVXPCT"
   },
   "outputs": [],
   "source": [
    "y = df.loc[:, df.columns == target]"
   ]
  },
  {
   "cell_type": "code",
   "execution_count": 10,
   "metadata": {
    "colab": {},
    "colab_type": "code",
    "id": "laHWJ2NJXgVU"
   },
   "outputs": [],
   "source": [
    "X_train, X_test, y_train, y_test = train_test_split(X, y, \n",
    "                                                    test_size=0.33, \n",
    "                                                    random_state=42)"
   ]
  },
  {
   "cell_type": "markdown",
   "metadata": {
    "colab_type": "text",
    "id": "W1GDGFrsi8c3"
   },
   "source": [
    "# Data as is"
   ]
  },
  {
   "cell_type": "code",
   "execution_count": 12,
   "metadata": {
    "colab": {
     "base_uri": "https://localhost:8080/",
     "height": 1000
    },
    "colab_type": "code",
    "id": "oLnQ3GPNXiFf",
    "outputId": "d3d31dc7-548c-414f-e878-8f099170158b",
    "scrolled": true
   },
   "outputs": [
    {
     "name": "stdout",
     "output_type": "stream",
     "text": [
      "Epoch 1/30\n",
      "9/9 [==============================] - 0s 18ms/step - loss: 3473.7395 - binary_accuracy: 0.3396 - val_loss: 2173.6538 - val_binary_accuracy: 0.3939\n",
      "Epoch 2/30\n",
      "9/9 [==============================] - 0s 3ms/step - loss: 1770.6329 - binary_accuracy: 0.3396 - val_loss: 664.0476 - val_binary_accuracy: 0.3939\n",
      "Epoch 3/30\n",
      "9/9 [==============================] - 0s 4ms/step - loss: 308.7956 - binary_accuracy: 0.4664 - val_loss: 474.9520 - val_binary_accuracy: 0.6061\n",
      "Epoch 4/30\n",
      "9/9 [==============================] - 0s 3ms/step - loss: 465.2788 - binary_accuracy: 0.6604 - val_loss: 335.0905 - val_binary_accuracy: 0.6061\n",
      "Epoch 5/30\n",
      "9/9 [==============================] - 0s 3ms/step - loss: 193.8910 - binary_accuracy: 0.4813 - val_loss: 169.9474 - val_binary_accuracy: 0.3939\n",
      "Epoch 6/30\n",
      "9/9 [==============================] - 0s 5ms/step - loss: 99.8900 - binary_accuracy: 0.5112 - val_loss: 173.1897 - val_binary_accuracy: 0.6061\n",
      "Epoch 7/30\n",
      "9/9 [==============================] - 0s 4ms/step - loss: 95.2775 - binary_accuracy: 0.6231 - val_loss: 129.9576 - val_binary_accuracy: 0.3939\n",
      "Epoch 8/30\n",
      "9/9 [==============================] - 0s 4ms/step - loss: 92.6499 - binary_accuracy: 0.4590 - val_loss: 65.2865 - val_binary_accuracy: 0.6061\n",
      "Epoch 9/30\n",
      "9/9 [==============================] - 0s 4ms/step - loss: 50.3874 - binary_accuracy: 0.4739 - val_loss: 49.6464 - val_binary_accuracy: 0.6061\n",
      "Epoch 10/30\n",
      "9/9 [==============================] - 0s 4ms/step - loss: 50.4732 - binary_accuracy: 0.5634 - val_loss: 53.8095 - val_binary_accuracy: 0.3939\n",
      "Epoch 11/30\n",
      "9/9 [==============================] - 0s 3ms/step - loss: 49.4189 - binary_accuracy: 0.5634 - val_loss: 44.2167 - val_binary_accuracy: 0.3939\n",
      "Epoch 12/30\n",
      "9/9 [==============================] - 0s 4ms/step - loss: 47.8572 - binary_accuracy: 0.4664 - val_loss: 25.1794 - val_binary_accuracy: 0.6061\n",
      "Epoch 13/30\n",
      "9/9 [==============================] - 0s 5ms/step - loss: 25.7764 - binary_accuracy: 0.5149 - val_loss: 27.2045 - val_binary_accuracy: 0.6061\n",
      "Epoch 14/30\n",
      "9/9 [==============================] - 0s 4ms/step - loss: 26.9333 - binary_accuracy: 0.5037 - val_loss: 37.7554 - val_binary_accuracy: 0.6061\n",
      "Epoch 15/30\n",
      "9/9 [==============================] - 0s 4ms/step - loss: 23.9757 - binary_accuracy: 0.4963 - val_loss: 22.6615 - val_binary_accuracy: 0.3939\n",
      "Epoch 16/30\n",
      "9/9 [==============================] - 0s 4ms/step - loss: 21.2582 - binary_accuracy: 0.4888 - val_loss: 7.3585 - val_binary_accuracy: 0.3712\n",
      "Epoch 17/30\n",
      "9/9 [==============================] - 0s 4ms/step - loss: 20.9226 - binary_accuracy: 0.5000 - val_loss: 18.5986 - val_binary_accuracy: 0.6061\n",
      "Epoch 18/30\n",
      "9/9 [==============================] - 0s 4ms/step - loss: 14.9413 - binary_accuracy: 0.4030 - val_loss: 29.4015 - val_binary_accuracy: 0.6061\n",
      "Epoch 19/30\n",
      "9/9 [==============================] - 0s 4ms/step - loss: 22.4974 - binary_accuracy: 0.5672 - val_loss: 10.8268 - val_binary_accuracy: 0.6061\n",
      "Epoch 20/30\n",
      "9/9 [==============================] - 0s 4ms/step - loss: 10.0919 - binary_accuracy: 0.5000 - val_loss: 6.1513 - val_binary_accuracy: 0.6061\n",
      "Epoch 21/30\n",
      "9/9 [==============================] - 0s 4ms/step - loss: 12.4621 - binary_accuracy: 0.5896 - val_loss: 31.7125 - val_binary_accuracy: 0.3939\n",
      "Epoch 22/30\n",
      "9/9 [==============================] - 0s 4ms/step - loss: 22.9225 - binary_accuracy: 0.4328 - val_loss: 15.7443 - val_binary_accuracy: 0.6061\n",
      "Epoch 23/30\n",
      "9/9 [==============================] - 0s 4ms/step - loss: 15.7305 - binary_accuracy: 0.5634 - val_loss: 19.1727 - val_binary_accuracy: 0.6061\n",
      "Epoch 24/30\n",
      "9/9 [==============================] - 0s 3ms/step - loss: 15.3455 - binary_accuracy: 0.5560 - val_loss: 10.6705 - val_binary_accuracy: 0.3939\n",
      "Epoch 25/30\n",
      "9/9 [==============================] - 0s 5ms/step - loss: 11.1866 - binary_accuracy: 0.5522 - val_loss: 18.2955 - val_binary_accuracy: 0.6061\n",
      "Epoch 26/30\n",
      "9/9 [==============================] - 0s 4ms/step - loss: 30.1808 - binary_accuracy: 0.4925 - val_loss: 60.7153 - val_binary_accuracy: 0.6061\n",
      "Epoch 27/30\n",
      "9/9 [==============================] - 0s 3ms/step - loss: 33.5117 - binary_accuracy: 0.5037 - val_loss: 51.2750 - val_binary_accuracy: 0.6061\n",
      "Epoch 28/30\n",
      "9/9 [==============================] - 0s 4ms/step - loss: 23.5810 - binary_accuracy: 0.5448 - val_loss: 10.9143 - val_binary_accuracy: 0.6061\n",
      "Epoch 29/30\n",
      "9/9 [==============================] - 0s 4ms/step - loss: 7.7740 - binary_accuracy: 0.4776 - val_loss: 16.6665 - val_binary_accuracy: 0.6061\n",
      "Epoch 30/30\n",
      "9/9 [==============================] - 0s 4ms/step - loss: 11.1623 - binary_accuracy: 0.5149 - val_loss: 10.0500 - val_binary_accuracy: 0.3939\n"
     ]
    }
   ],
   "source": [
    "model = Sequential()\n",
    "model.add(Dense(32, input_dim=3, activation=\"relu\")) \n",
    "# 32 Nurons in hidden layer, with input dimensions as 3, because we have 3 imput features\n",
    "model.add(Dense(1, activation=\"sigmoid\")) # Output Layer\n",
    "model.compile(loss='binary_crossentropy', \n",
    "              optimizer='adam', \n",
    "              metrics=['binary_accuracy'])\n",
    "history = model.fit(X_train, y_train, epochs = 30, validation_data = (X_test, y_test))\n",
    "\n",
    "\n",
    "# As we can see accuracy is not so good with High Loss. So this is not our desired calssifier."
   ]
  },
  {
   "cell_type": "markdown",
   "metadata": {
    "colab_type": "text",
    "id": "0W1tUblZjSGQ"
   },
   "source": [
    "# Normalize Data"
   ]
  },
  {
   "cell_type": "code",
   "execution_count": 13,
   "metadata": {
    "colab": {},
    "colab_type": "code",
    "id": "KuWbiQo3ZiHB"
   },
   "outputs": [],
   "source": [
    "scaler = StandardScaler().fit(X_train)"
   ]
  },
  {
   "cell_type": "code",
   "execution_count": 14,
   "metadata": {
    "colab": {},
    "colab_type": "code",
    "id": "RRe-djTXjM4t"
   },
   "outputs": [],
   "source": [
    "X_train_Scaled = scaler.transform(X_train)"
   ]
  },
  {
   "cell_type": "code",
   "execution_count": 15,
   "metadata": {
    "colab": {},
    "colab_type": "code",
    "id": "zQcRFRCmZnZ3"
   },
   "outputs": [],
   "source": [
    "X_test_Scaled = scaler.transform(X_test)"
   ]
  },
  {
   "cell_type": "code",
   "execution_count": 16,
   "metadata": {
    "colab": {
     "base_uri": "https://localhost:8080/",
     "height": 1000
    },
    "colab_type": "code",
    "id": "biv1IzGsaLLL",
    "outputId": "de69723b-46f1-45cb-9109-a4576b893d71",
    "scrolled": true
   },
   "outputs": [
    {
     "name": "stdout",
     "output_type": "stream",
     "text": [
      "Epoch 1/30\n",
      "9/9 [==============================] - 0s 19ms/step - loss: 0.7133 - binary_accuracy: 0.6567 - val_loss: 0.7050 - val_binary_accuracy: 0.6061\n",
      "Epoch 2/30\n",
      "9/9 [==============================] - 0s 4ms/step - loss: 0.6900 - binary_accuracy: 0.6604 - val_loss: 0.6817 - val_binary_accuracy: 0.6061\n",
      "Epoch 3/30\n",
      "9/9 [==============================] - 0s 5ms/step - loss: 0.6683 - binary_accuracy: 0.6604 - val_loss: 0.6588 - val_binary_accuracy: 0.6061\n",
      "Epoch 4/30\n",
      "9/9 [==============================] - 0s 4ms/step - loss: 0.6471 - binary_accuracy: 0.6754 - val_loss: 0.6370 - val_binary_accuracy: 0.6364\n",
      "Epoch 5/30\n",
      "9/9 [==============================] - 0s 4ms/step - loss: 0.6279 - binary_accuracy: 0.6754 - val_loss: 0.6158 - val_binary_accuracy: 0.6667\n",
      "Epoch 6/30\n",
      "9/9 [==============================] - 0s 4ms/step - loss: 0.6084 - binary_accuracy: 0.7052 - val_loss: 0.5960 - val_binary_accuracy: 0.7045\n",
      "Epoch 7/30\n",
      "9/9 [==============================] - 0s 5ms/step - loss: 0.5906 - binary_accuracy: 0.7351 - val_loss: 0.5771 - val_binary_accuracy: 0.7424\n",
      "Epoch 8/30\n",
      "9/9 [==============================] - 0s 4ms/step - loss: 0.5737 - binary_accuracy: 0.7388 - val_loss: 0.5594 - val_binary_accuracy: 0.7727\n",
      "Epoch 9/30\n",
      "9/9 [==============================] - 0s 4ms/step - loss: 0.5575 - binary_accuracy: 0.7612 - val_loss: 0.5427 - val_binary_accuracy: 0.7879\n",
      "Epoch 10/30\n",
      "9/9 [==============================] - 0s 4ms/step - loss: 0.5425 - binary_accuracy: 0.7649 - val_loss: 0.5261 - val_binary_accuracy: 0.8030\n",
      "Epoch 11/30\n",
      "9/9 [==============================] - 0s 3ms/step - loss: 0.5280 - binary_accuracy: 0.7687 - val_loss: 0.5098 - val_binary_accuracy: 0.8258\n",
      "Epoch 12/30\n",
      "9/9 [==============================] - 0s 3ms/step - loss: 0.5139 - binary_accuracy: 0.7836 - val_loss: 0.4956 - val_binary_accuracy: 0.8258\n",
      "Epoch 13/30\n",
      "9/9 [==============================] - 0s 4ms/step - loss: 0.5007 - binary_accuracy: 0.8060 - val_loss: 0.4821 - val_binary_accuracy: 0.8258\n",
      "Epoch 14/30\n",
      "9/9 [==============================] - 0s 4ms/step - loss: 0.4885 - binary_accuracy: 0.8172 - val_loss: 0.4682 - val_binary_accuracy: 0.8258\n",
      "Epoch 15/30\n",
      "9/9 [==============================] - 0s 4ms/step - loss: 0.4763 - binary_accuracy: 0.8209 - val_loss: 0.4553 - val_binary_accuracy: 0.8333\n",
      "Epoch 16/30\n",
      "9/9 [==============================] - 0s 4ms/step - loss: 0.4650 - binary_accuracy: 0.8321 - val_loss: 0.4424 - val_binary_accuracy: 0.8409\n",
      "Epoch 17/30\n",
      "9/9 [==============================] - 0s 4ms/step - loss: 0.4541 - binary_accuracy: 0.8358 - val_loss: 0.4308 - val_binary_accuracy: 0.8485\n",
      "Epoch 18/30\n",
      "9/9 [==============================] - 0s 4ms/step - loss: 0.4443 - binary_accuracy: 0.8396 - val_loss: 0.4197 - val_binary_accuracy: 0.8485\n",
      "Epoch 19/30\n",
      "9/9 [==============================] - 0s 3ms/step - loss: 0.4344 - binary_accuracy: 0.8396 - val_loss: 0.4096 - val_binary_accuracy: 0.8561\n",
      "Epoch 20/30\n",
      "9/9 [==============================] - 0s 4ms/step - loss: 0.4259 - binary_accuracy: 0.8470 - val_loss: 0.3996 - val_binary_accuracy: 0.8561\n",
      "Epoch 21/30\n",
      "9/9 [==============================] - 0s 4ms/step - loss: 0.4178 - binary_accuracy: 0.8507 - val_loss: 0.3905 - val_binary_accuracy: 0.8561\n",
      "Epoch 22/30\n",
      "9/9 [==============================] - 0s 4ms/step - loss: 0.4106 - binary_accuracy: 0.8507 - val_loss: 0.3815 - val_binary_accuracy: 0.8485\n",
      "Epoch 23/30\n",
      "9/9 [==============================] - 0s 4ms/step - loss: 0.4034 - binary_accuracy: 0.8545 - val_loss: 0.3743 - val_binary_accuracy: 0.8561\n",
      "Epoch 24/30\n",
      "9/9 [==============================] - 0s 4ms/step - loss: 0.3968 - binary_accuracy: 0.8507 - val_loss: 0.3659 - val_binary_accuracy: 0.8636\n",
      "Epoch 25/30\n",
      "9/9 [==============================] - 0s 4ms/step - loss: 0.3910 - binary_accuracy: 0.8507 - val_loss: 0.3593 - val_binary_accuracy: 0.8636\n",
      "Epoch 26/30\n",
      "9/9 [==============================] - 0s 4ms/step - loss: 0.3850 - binary_accuracy: 0.8582 - val_loss: 0.3525 - val_binary_accuracy: 0.8788\n",
      "Epoch 27/30\n",
      "9/9 [==============================] - 0s 4ms/step - loss: 0.3800 - binary_accuracy: 0.8545 - val_loss: 0.3469 - val_binary_accuracy: 0.8788\n",
      "Epoch 28/30\n",
      "9/9 [==============================] - 0s 4ms/step - loss: 0.3752 - binary_accuracy: 0.8545 - val_loss: 0.3416 - val_binary_accuracy: 0.8788\n",
      "Epoch 29/30\n",
      "9/9 [==============================] - 0s 3ms/step - loss: 0.3707 - binary_accuracy: 0.8619 - val_loss: 0.3361 - val_binary_accuracy: 0.8788\n",
      "Epoch 30/30\n",
      "9/9 [==============================] - 0s 4ms/step - loss: 0.3665 - binary_accuracy: 0.8619 - val_loss: 0.3299 - val_binary_accuracy: 0.8788\n"
     ]
    }
   ],
   "source": [
    "model = Sequential()\n",
    "model.add(Dense(32, input_dim=3, activation=\"relu\"))\n",
    "model.add(Dense(1, activation=\"sigmoid\"))\n",
    "model.compile(loss='binary_crossentropy', \n",
    "              optimizer='adam', \n",
    "              metrics=['binary_accuracy'])\n",
    "history = model.fit(X_train_Scaled, y_train, epochs = 30, validation_data = (X_test_Scaled, y_test))"
   ]
  },
  {
   "cell_type": "markdown",
   "metadata": {
    "colab": {},
    "colab_type": "code",
    "id": "dSNfbKtnaVvx"
   },
   "source": [
    "As we can accuracy increase with reduction of Loss."
   ]
  }
 ],
 "metadata": {
  "accelerator": "GPU",
  "colab": {
   "name": "Data Normalization.ipynb",
   "provenance": []
  },
  "kernelspec": {
   "display_name": "Python 3",
   "language": "python",
   "name": "python3"
  },
  "language_info": {
   "codemirror_mode": {
    "name": "ipython",
    "version": 3
   },
   "file_extension": ".py",
   "mimetype": "text/x-python",
   "name": "python",
   "nbconvert_exporter": "python",
   "pygments_lexer": "ipython3",
   "version": "3.7.6"
  }
 },
 "nbformat": 4,
 "nbformat_minor": 1
}
